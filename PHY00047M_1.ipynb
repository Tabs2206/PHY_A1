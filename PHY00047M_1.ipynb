{
  "cells": [
    {
      "cell_type": "markdown",
      "metadata": {
        "id": "view-in-github",
        "colab_type": "text"
      },
      "source": [
        "<a href=\"https://colab.research.google.com/github/Tabs2206/PHY_A1/blob/main/PHY00047M_1.ipynb\" target=\"_parent\"><img src=\"https://colab.research.google.com/assets/colab-badge.svg\" alt=\"Open In Colab\"/></a>"
      ]
    },
    {
      "cell_type": "markdown",
      "id": "328e3df2",
      "metadata": {
        "id": "328e3df2"
      },
      "source": [
        "# PHY00047M Mini Assignment 1\n",
        "## No. of Pages - 03"
      ]
    },
    {
      "cell_type": "markdown",
      "id": "26661dae",
      "metadata": {
        "id": "26661dae"
      },
      "source": [
        "## 1. Problem 1\n",
        "#### Given the data file data1.dat perform the following tasks (while explicitly giving the formulas used where appropriate, even if you use built-in functions):\n"
      ]
    },
    {
      "cell_type": "markdown",
      "id": "0ce32987",
      "metadata": {
        "id": "0ce32987"
      },
      "source": [
        "#### 1. Plot a histogram of the data and discuss the distribution and your choice of histogram range and binning. What is the mode of the distribution from a visual inspection?"
      ]
    },
    {
      "cell_type": "code",
      "execution_count": null,
      "id": "76526e87",
      "metadata": {
        "id": "76526e87"
      },
      "outputs": [],
      "source": [
        "#importing the required liberaries\n",
        "import numpy as np\n",
        "import matplotlib.pyplot as plt\n",
        "import pandas as pd\n",
        "import random as rnd\n",
        "import math"
      ]
    },
    {
      "cell_type": "markdown",
      "id": "53c92218",
      "metadata": {
        "id": "53c92218"
      },
      "source": [
        "<img src=\"https://raw.githubusercontent.com/Tabs2206/PHY_A1/main/github.jpg?token=GHSAT0AAAAAACOSBXGPI3K4XRG7RW32XYDQZOXHYBQ\" width =400px>\n",
        "\n"
      ]
    },
    {
      "cell_type": "code",
      "execution_count": null,
      "id": "cab05273",
      "metadata": {
        "id": "cab05273",
        "outputId": "7aec4307-e790-48c4-e1eb-55ed98354150"
      },
      "outputs": [
        {
          "data": {
            "text/html": [
              "<div>\n",
              "<style scoped>\n",
              "    .dataframe tbody tr th:only-of-type {\n",
              "        vertical-align: middle;\n",
              "    }\n",
              "\n",
              "    .dataframe tbody tr th {\n",
              "        vertical-align: top;\n",
              "    }\n",
              "\n",
              "    .dataframe thead th {\n",
              "        text-align: right;\n",
              "    }\n",
              "</style>\n",
              "<table border=\"1\" class=\"dataframe\">\n",
              "  <thead>\n",
              "    <tr style=\"text-align: right;\">\n",
              "      <th></th>\n",
              "      <th>Variables</th>\n",
              "    </tr>\n",
              "  </thead>\n",
              "  <tbody>\n",
              "    <tr>\n",
              "      <th>0</th>\n",
              "      <td>1.907430</td>\n",
              "    </tr>\n",
              "    <tr>\n",
              "      <th>1</th>\n",
              "      <td>0.545265</td>\n",
              "    </tr>\n",
              "    <tr>\n",
              "      <th>2</th>\n",
              "      <td>-1.249300</td>\n",
              "    </tr>\n",
              "    <tr>\n",
              "      <th>3</th>\n",
              "      <td>1.306820</td>\n",
              "    </tr>\n",
              "    <tr>\n",
              "      <th>4</th>\n",
              "      <td>0.203998</td>\n",
              "    </tr>\n",
              "    <tr>\n",
              "      <th>...</th>\n",
              "      <td>...</td>\n",
              "    </tr>\n",
              "    <tr>\n",
              "      <th>49995</th>\n",
              "      <td>1.967580</td>\n",
              "    </tr>\n",
              "    <tr>\n",
              "      <th>49996</th>\n",
              "      <td>2.940000</td>\n",
              "    </tr>\n",
              "    <tr>\n",
              "      <th>49997</th>\n",
              "      <td>3.124900</td>\n",
              "    </tr>\n",
              "    <tr>\n",
              "      <th>49998</th>\n",
              "      <td>7.067150</td>\n",
              "    </tr>\n",
              "    <tr>\n",
              "      <th>49999</th>\n",
              "      <td>0.594597</td>\n",
              "    </tr>\n",
              "  </tbody>\n",
              "</table>\n",
              "<p>50000 rows × 1 columns</p>\n",
              "</div>"
            ],
            "text/plain": [
              "       Variables\n",
              "0       1.907430\n",
              "1       0.545265\n",
              "2      -1.249300\n",
              "3       1.306820\n",
              "4       0.203998\n",
              "...          ...\n",
              "49995   1.967580\n",
              "49996   2.940000\n",
              "49997   3.124900\n",
              "49998   7.067150\n",
              "49999   0.594597\n",
              "\n",
              "[50000 rows x 1 columns]"
            ]
          },
          "execution_count": 42,
          "metadata": {},
          "output_type": "execute_result"
        }
      ],
      "source": [
        "#Using github to provide a URL for the data\n",
        "url = \"https://raw.githubusercontent.com/Tabs2206/PHY_A1/main/data1.dat\"\n",
        "# To provide Column name to the variables\n",
        "column = ['Variables']\n",
        "# Reading the .dat file while making the header as none and column name as define above\n",
        "dataframe = pd.read_csv(url, header=None, names=column)\n",
        "# Printing the dataset, it contains 50000 rows\n",
        "dataframe"
      ]
    },
    {
      "cell_type": "code",
      "execution_count": null,
      "id": "e2abfa06",
      "metadata": {
        "id": "e2abfa06",
        "outputId": "f868cfa0-df29-485b-b343-fb9125fa326f"
      },
      "outputs": [
        {
          "data": {
            "text/html": [
              "<div>\n",
              "<style scoped>\n",
              "    .dataframe tbody tr th:only-of-type {\n",
              "        vertical-align: middle;\n",
              "    }\n",
              "\n",
              "    .dataframe tbody tr th {\n",
              "        vertical-align: top;\n",
              "    }\n",
              "\n",
              "    .dataframe thead th {\n",
              "        text-align: right;\n",
              "    }\n",
              "</style>\n",
              "<table border=\"1\" class=\"dataframe\">\n",
              "  <thead>\n",
              "    <tr style=\"text-align: right;\">\n",
              "      <th></th>\n",
              "      <th>Variables</th>\n",
              "    </tr>\n",
              "  </thead>\n",
              "  <tbody>\n",
              "    <tr>\n",
              "      <th>count</th>\n",
              "      <td>50000.000000</td>\n",
              "    </tr>\n",
              "    <tr>\n",
              "      <th>mean</th>\n",
              "      <td>1.871791</td>\n",
              "    </tr>\n",
              "    <tr>\n",
              "      <th>std</th>\n",
              "      <td>2.901227</td>\n",
              "    </tr>\n",
              "    <tr>\n",
              "      <th>min</th>\n",
              "      <td>-4.127550</td>\n",
              "    </tr>\n",
              "    <tr>\n",
              "      <th>25%</th>\n",
              "      <td>-0.340552</td>\n",
              "    </tr>\n",
              "    <tr>\n",
              "      <th>50%</th>\n",
              "      <td>1.238030</td>\n",
              "    </tr>\n",
              "    <tr>\n",
              "      <th>75%</th>\n",
              "      <td>3.608205</td>\n",
              "    </tr>\n",
              "    <tr>\n",
              "      <th>max</th>\n",
              "      <td>9.998370</td>\n",
              "    </tr>\n",
              "  </tbody>\n",
              "</table>\n",
              "</div>"
            ],
            "text/plain": [
              "          Variables\n",
              "count  50000.000000\n",
              "mean       1.871791\n",
              "std        2.901227\n",
              "min       -4.127550\n",
              "25%       -0.340552\n",
              "50%        1.238030\n",
              "75%        3.608205\n",
              "max        9.998370"
            ]
          },
          "execution_count": 43,
          "metadata": {},
          "output_type": "execute_result"
        }
      ],
      "source": [
        "#describing the dataset\n",
        "dataframe.describe()"
      ]
    },
    {
      "cell_type": "code",
      "execution_count": null,
      "id": "1068ea94",
      "metadata": {
        "id": "1068ea94",
        "outputId": "71895801-3cbe-4a25-b8f1-245ce242c33a"
      },
      "outputs": [
        {
          "data": {
            "image/png": "[encoded data removed]",
            "text/plain": [
              "<Figure size 640x480 with 1 Axes>"
            ]
          },
          "metadata": {},
          "output_type": "display_data"
        }
      ],
      "source": [
        "#defining the bins and range for the histogram\n",
        "bins = 40\n",
        "dataframe_range = dataframe['Variables']\n",
        "hist_range = (min(dataframe_range), max(dataframe_range))\n",
        "\n",
        "# Plot the histogram\n",
        "plt.hist(dataframe, bins=bins, range=hist_range, edgecolor='black')\n",
        "plt.xlabel('Variable')\n",
        "plt.ylabel('Range')\n",
        "plt.title('Histogram for variable')\n",
        "\n",
        "\n",
        "plt.show()"
      ]
    },
    {
      "cell_type": "code",
      "execution_count": null,
      "id": "fea97d6b",
      "metadata": {
        "id": "fea97d6b",
        "outputId": "befd9956-2a38-4d01-95b0-b23fe466768c"
      },
      "outputs": [
        {
          "name": "stdout",
          "output_type": "stream",
          "text": [
            "Mode of the above distribution :: -1.79376\n"
          ]
        }
      ],
      "source": [
        "mode = dataframe_range.mode()[0]\n",
        "print(\"Mode of the above distribution ::\",mode)"
      ]
    },
    {
      "cell_type": "markdown",
      "id": "8224fe5b",
      "metadata": {
        "id": "8224fe5b"
      },
      "source": [
        "#### 2. Determine the mean"
      ]
    },
    {
      "cell_type": "markdown",
      "id": "31a956b2",
      "metadata": {
        "id": "31a956b2"
      },
      "source": [
        "##### Using In-built function from NumPy"
      ]
    },
    {
      "cell_type": "code",
      "execution_count": null,
      "id": "c0de2947",
      "metadata": {
        "id": "c0de2947",
        "outputId": "4b2e220b-6b54-489f-ed50-72a8a9db58cc"
      },
      "outputs": [
        {
          "name": "stdout",
          "output_type": "stream",
          "text": [
            "Distribution of the Mean ::  1.8717907847343263\n"
          ]
        }
      ],
      "source": [
        "# Calculating the mean\n",
        "mean = np.mean(dataframe)\n",
        "print(\"Distribution of the Mean :: \", mean)"
      ]
    },
    {
      "cell_type": "markdown",
      "id": "769c4e2b",
      "metadata": {
        "id": "769c4e2b"
      },
      "source": [
        "##### Using Pandas/Formula"
      ]
    },
    {
      "cell_type": "code",
      "execution_count": null,
      "id": "9c09359d",
      "metadata": {
        "id": "9c09359d",
        "outputId": "f1fab546-a4de-4763-b9f2-d72985ac4219"
      },
      "outputs": [
        {
          "name": "stdout",
          "output_type": "stream",
          "text": [
            "Distribution of the Mean ::  1.8717907847343263\n"
          ]
        }
      ],
      "source": [
        "# Calculating the mean without the function\n",
        "\n",
        "sum_data = dataframe['Variables'].sum()\n",
        "counts = len(dataframe)\n",
        "\n",
        "mean = sum_data /(counts)\n",
        "print(\"Distribution of the Mean :: \", mean)"
      ]
    },
    {
      "cell_type": "markdown",
      "id": "f2af9544",
      "metadata": {
        "id": "f2af9544"
      },
      "source": [
        "#### 3. Determine the variance"
      ]
    },
    {
      "cell_type": "markdown",
      "id": "8e7c9a11-1979-4339-a65e-db88d422afbf",
      "metadata": {
        "id": "8e7c9a11-1979-4339-a65e-db88d422afbf"
      },
      "source": [
        "##### Using In-built function"
      ]
    },
    {
      "cell_type": "code",
      "execution_count": null,
      "id": "51aa770c",
      "metadata": {
        "id": "51aa770c",
        "outputId": "53ee2c71-fd85-43b4-af76-30ec1655ea13"
      },
      "outputs": [
        {
          "name": "stdout",
          "output_type": "stream",
          "text": [
            "Distribution of the Variance ::  8.417119184007904\n"
          ]
        }
      ],
      "source": [
        "# Calculating the variance\n",
        "variance = dataframe['Variables'].var()\n",
        "\n",
        "#Printing the variance\n",
        "print(\"Distribution of the Variance :: \", variance)"
      ]
    },
    {
      "cell_type": "markdown",
      "id": "17c1149a-9f53-4514-8a73-aae5a4c229e8",
      "metadata": {
        "id": "17c1149a-9f53-4514-8a73-aae5a4c229e8"
      },
      "source": [
        "#### Formula for calculating a variance"
      ]
    },
    {
      "cell_type": "code",
      "execution_count": null,
      "id": "2ee65604-58b8-47a5-85c5-e3dc91eb4b06",
      "metadata": {
        "id": "2ee65604-58b8-47a5-85c5-e3dc91eb4b06"
      },
      "outputs": [],
      "source": [
        "numeric_df = dataframe.apply(pd.to_numeric, errors='coerce')"
      ]
    },
    {
      "cell_type": "code",
      "execution_count": null,
      "id": "b71ebe0a-158c-4322-9e35-139ceff128d0",
      "metadata": {
        "id": "b71ebe0a-158c-4322-9e35-139ceff128d0",
        "outputId": "7ff1ab25-b074-46a8-a4a8-8fe6dda3d456"
      },
      "outputs": [
        {
          "data": {
            "text/plain": [
              "'# Calculate the deviation using mean\\ndeviations = [(x - mean) for x in numeric_df]\\n# Calculate the sq deviation\\nsquared_deviations = [(x ** 2) for x in deviations]\\n\\nsum_squared_deviations = sum(squared_deviations)\\n# Calculate the variance\\nvariance = sum_squared_deviations / (len(data) - 1)\\n'"
            ]
          },
          "execution_count": 110,
          "metadata": {},
          "output_type": "execute_result"
        }
      ],
      "source": [
        "'''# Calculate the deviation using mean\n",
        "deviations = [(x - mean) for x in numeric_df]\n",
        "# Calculate the sq deviation\n",
        "squared_deviations = [(x ** 2) for x in deviations]\n",
        "\n",
        "sum_squared_deviations = sum(squared_deviations)\n",
        "# Calculate the variance\n",
        "variance = sum_squared_deviations / (len(data) - 1)\n",
        "'''"
      ]
    },
    {
      "cell_type": "markdown",
      "id": "f5434941",
      "metadata": {
        "id": "f5434941"
      },
      "source": [
        "#### 4. Determine the skew"
      ]
    },
    {
      "cell_type": "markdown",
      "id": "08ecba25",
      "metadata": {
        "id": "08ecba25"
      },
      "source": [
        "##### Using In-built function"
      ]
    },
    {
      "cell_type": "code",
      "execution_count": null,
      "id": "1c6f645a",
      "metadata": {
        "id": "1c6f645a",
        "outputId": "3fdca4c9-8e4e-4cdf-eb40-c6109cb3fe07"
      },
      "outputs": [
        {
          "name": "stdout",
          "output_type": "stream",
          "text": [
            "Distribution of the Skew ::  0.7684030146956186\n"
          ]
        }
      ],
      "source": [
        "# Calculating the Skew\n",
        "\n",
        "skew = dataframe['Variables'].skew()\n",
        "\n",
        "#Printing the skew\n",
        "print(\"Distribution of the Skew :: \", skew)"
      ]
    },
    {
      "cell_type": "markdown",
      "id": "1fb3d1eb",
      "metadata": {
        "id": "1fb3d1eb"
      },
      "source": [
        "#### 5. Discuss your findings with expectations from visually inspecting the histogram.\n"
      ]
    },
    {
      "cell_type": "markdown",
      "id": "be0edb66-3e93-4a97-b18c-cd7aea293613",
      "metadata": {
        "id": "be0edb66-3e93-4a97-b18c-cd7aea293613"
      },
      "source": [
        "The bin are used in the histogram is 40. The histogram range is minimum and maximum value of the dataframe. Here in the above histogram we can see the peek of the plot at the mean value 1-2 which is expected. We are able to see the variance is 8 which show all the plot difference in the bins. The Skewness is positive and due to which it *tail to right*"
      ]
    },
    {
      "cell_type": "markdown",
      "id": "310eb57e",
      "metadata": {
        "id": "310eb57e"
      },
      "source": [
        "# 2 Problem 2\n",
        "\n",
        "#### Given the two-dimensional data file data2.dat perform the following tasks:"
      ]
    },
    {
      "cell_type": "code",
      "execution_count": null,
      "id": "b7d3e0e8",
      "metadata": {
        "id": "b7d3e0e8",
        "outputId": "22d4334f-2527-4eb9-dc54-407e80f03dcc"
      },
      "outputs": [
        {
          "data": {
            "text/html": [
              "<div>\n",
              "<style scoped>\n",
              "    .dataframe tbody tr th:only-of-type {\n",
              "        vertical-align: middle;\n",
              "    }\n",
              "\n",
              "    .dataframe tbody tr th {\n",
              "        vertical-align: top;\n",
              "    }\n",
              "\n",
              "    .dataframe thead th {\n",
              "        text-align: right;\n",
              "    }\n",
              "</style>\n",
              "<table border=\"1\" class=\"dataframe\">\n",
              "  <thead>\n",
              "    <tr style=\"text-align: right;\">\n",
              "      <th></th>\n",
              "      <th>X</th>\n",
              "      <th>Y</th>\n",
              "    </tr>\n",
              "  </thead>\n",
              "  <tbody>\n",
              "    <tr>\n",
              "      <th>0</th>\n",
              "      <td>44.2253</td>\n",
              "      <td>23.45900</td>\n",
              "    </tr>\n",
              "    <tr>\n",
              "      <th>1</th>\n",
              "      <td>45.3181</td>\n",
              "      <td>23.53950</td>\n",
              "    </tr>\n",
              "    <tr>\n",
              "      <th>2</th>\n",
              "      <td>44.5577</td>\n",
              "      <td>25.37700</td>\n",
              "    </tr>\n",
              "    <tr>\n",
              "      <th>3</th>\n",
              "      <td>45.6981</td>\n",
              "      <td>23.67750</td>\n",
              "    </tr>\n",
              "    <tr>\n",
              "      <th>4</th>\n",
              "      <td>15.5723</td>\n",
              "      <td>7.43368</td>\n",
              "    </tr>\n",
              "    <tr>\n",
              "      <th>...</th>\n",
              "      <td>...</td>\n",
              "      <td>...</td>\n",
              "    </tr>\n",
              "    <tr>\n",
              "      <th>49995</th>\n",
              "      <td>48.6187</td>\n",
              "      <td>25.59830</td>\n",
              "    </tr>\n",
              "    <tr>\n",
              "      <th>49996</th>\n",
              "      <td>46.7901</td>\n",
              "      <td>21.51350</td>\n",
              "    </tr>\n",
              "    <tr>\n",
              "      <th>49997</th>\n",
              "      <td>41.3364</td>\n",
              "      <td>18.56610</td>\n",
              "    </tr>\n",
              "    <tr>\n",
              "      <th>49998</th>\n",
              "      <td>45.7244</td>\n",
              "      <td>29.95480</td>\n",
              "    </tr>\n",
              "    <tr>\n",
              "      <th>49999</th>\n",
              "      <td>34.9793</td>\n",
              "      <td>17.44680</td>\n",
              "    </tr>\n",
              "  </tbody>\n",
              "</table>\n",
              "<p>50000 rows × 2 columns</p>\n",
              "</div>"
            ],
            "text/plain": [
              "             X         Y\n",
              "0      44.2253  23.45900\n",
              "1      45.3181  23.53950\n",
              "2      44.5577  25.37700\n",
              "3      45.6981  23.67750\n",
              "4      15.5723   7.43368\n",
              "...        ...       ...\n",
              "49995  48.6187  25.59830\n",
              "49996  46.7901  21.51350\n",
              "49997  41.3364  18.56610\n",
              "49998  45.7244  29.95480\n",
              "49999  34.9793  17.44680\n",
              "\n",
              "[50000 rows x 2 columns]"
            ]
          },
          "execution_count": 50,
          "metadata": {},
          "output_type": "execute_result"
        }
      ],
      "source": [
        "#Using github to provide a URL for the data\n",
        "url = \"https://raw.githubusercontent.com/Tabs2206/PHY_A1/main/data2.dat\"\n",
        "# To provide Column name to the variables\n",
        "column = ['X','Y']\n",
        "# Reading the .dat file while making the header as none and column name as define above\n",
        "dataframe2 = pd.read_csv(url, header=None, names = column)\n",
        "# Printing the dataset, it contains 50000 rows\n",
        "dataframe2"
      ]
    },
    {
      "cell_type": "code",
      "execution_count": null,
      "id": "0b65e181",
      "metadata": {
        "id": "0b65e181",
        "outputId": "ebfebf95-6ce0-4a49-91ac-41d29e87c896"
      },
      "outputs": [
        {
          "data": {
            "text/html": [
              "<div>\n",
              "<style scoped>\n",
              "    .dataframe tbody tr th:only-of-type {\n",
              "        vertical-align: middle;\n",
              "    }\n",
              "\n",
              "    .dataframe tbody tr th {\n",
              "        vertical-align: top;\n",
              "    }\n",
              "\n",
              "    .dataframe thead th {\n",
              "        text-align: right;\n",
              "    }\n",
              "</style>\n",
              "<table border=\"1\" class=\"dataframe\">\n",
              "  <thead>\n",
              "    <tr style=\"text-align: right;\">\n",
              "      <th></th>\n",
              "      <th>X</th>\n",
              "      <th>Y</th>\n",
              "    </tr>\n",
              "  </thead>\n",
              "  <tbody>\n",
              "    <tr>\n",
              "      <th>count</th>\n",
              "      <td>50000.000000</td>\n",
              "      <td>50000.000000</td>\n",
              "    </tr>\n",
              "    <tr>\n",
              "      <th>mean</th>\n",
              "      <td>40.838507</td>\n",
              "      <td>21.317262</td>\n",
              "    </tr>\n",
              "    <tr>\n",
              "      <th>std</th>\n",
              "      <td>7.623422</td>\n",
              "      <td>4.522613</td>\n",
              "    </tr>\n",
              "    <tr>\n",
              "      <th>min</th>\n",
              "      <td>2.934680</td>\n",
              "      <td>2.301780</td>\n",
              "    </tr>\n",
              "    <tr>\n",
              "      <th>25%</th>\n",
              "      <td>36.668675</td>\n",
              "      <td>18.655475</td>\n",
              "    </tr>\n",
              "    <tr>\n",
              "      <th>50%</th>\n",
              "      <td>42.825050</td>\n",
              "      <td>21.810550</td>\n",
              "    </tr>\n",
              "    <tr>\n",
              "      <th>75%</th>\n",
              "      <td>46.853325</td>\n",
              "      <td>24.462800</td>\n",
              "    </tr>\n",
              "    <tr>\n",
              "      <th>max</th>\n",
              "      <td>49.999900</td>\n",
              "      <td>38.280400</td>\n",
              "    </tr>\n",
              "  </tbody>\n",
              "</table>\n",
              "</div>"
            ],
            "text/plain": [
              "                  X             Y\n",
              "count  50000.000000  50000.000000\n",
              "mean      40.838507     21.317262\n",
              "std        7.623422      4.522613\n",
              "min        2.934680      2.301780\n",
              "25%       36.668675     18.655475\n",
              "50%       42.825050     21.810550\n",
              "75%       46.853325     24.462800\n",
              "max       49.999900     38.280400"
            ]
          },
          "execution_count": 51,
          "metadata": {},
          "output_type": "execute_result"
        }
      ],
      "source": [
        "dataframe2.describe()"
      ]
    },
    {
      "cell_type": "markdown",
      "id": "d0afb21e",
      "metadata": {
        "id": "d0afb21e"
      },
      "source": [
        "#### 1. Plot a histogram of the data and discuss the distribution and your choice of histogram range and binning"
      ]
    },
    {
      "cell_type": "code",
      "execution_count": null,
      "id": "7d696484",
      "metadata": {
        "id": "7d696484",
        "outputId": "790ff851-6dc2-4a7f-d260-d5f62e2a037f"
      },
      "outputs": [
        {
          "data": {
            "image/png": "[encoded data removed]",
            "text/plain": [
              "<Figure size 640x480 with 2 Axes>"
            ]
          },
          "metadata": {},
          "output_type": "display_data"
        }
      ],
      "source": [
        "#defining the bins and range for the histogram\n",
        "bin = 30\n",
        "x = dataframe2['X']\n",
        "y = dataframe2['Y']\n",
        "#hist_range = (min(dataframe_range), max(dataframe_range))\n",
        "\n",
        "x_range = [min(x) , max(x)]\n",
        "y_range = [min(y) , max(y)]\n",
        "\n",
        "# Plot the histogram\n",
        "counts, xedges, yedges, image = plt.hist2d(x, y, bins=bins, range = [x_range, y_range] ,cmap = 'viridis')\n",
        "\n",
        "plt.xlabel('X - Variable')\n",
        "plt.ylabel('Y - Variable')\n",
        "plt.title('2D Histogram')\n",
        "\n",
        "#Adding the colorbar\n",
        "plt.colorbar(label = 'Frequency')\n",
        "\n",
        "#Annotation each cell frequency\n",
        "\n",
        "for i in range(len(xedges) - 1):\n",
        "    for j in range(len(yedges) - 1):\n",
        "        plt.text(xedges[i] + 0.5 * (xedges[i + 1] - xedges[i]),\n",
        "                 yedges[j] + 0.5 * (yedges[j + 1] -  yedges[j]),\n",
        "                 int(counts[i, j]),\n",
        "                 color = \"white\",\n",
        "                 ha = \"center\",\n",
        "                 va = \"center\")\n",
        "\n",
        "plt.show()"
      ]
    },
    {
      "cell_type": "markdown",
      "id": "686f1a2a",
      "metadata": {
        "id": "686f1a2a"
      },
      "source": [
        "#### 2. Determine the means"
      ]
    },
    {
      "cell_type": "code",
      "execution_count": null,
      "id": "b9e61d9a",
      "metadata": {
        "id": "b9e61d9a",
        "outputId": "74b33681-a984-487e-c4a6-4532bc1e896e"
      },
      "outputs": [
        {
          "name": "stdout",
          "output_type": "stream",
          "text": [
            "Distribution of the Mean ::  40.83850665159999\n"
          ]
        }
      ],
      "source": [
        "# Calculating the mean for X variable\n",
        "mean = np.mean(dataframe2['X'])\n",
        "print(\"Distribution of the Mean :: \", mean)"
      ]
    },
    {
      "cell_type": "code",
      "execution_count": null,
      "id": "b8ea23e8-88d6-4f2c-92fd-4c7ac2e48b08",
      "metadata": {
        "id": "b8ea23e8-88d6-4f2c-92fd-4c7ac2e48b08",
        "outputId": "fdb6f76e-9210-41dc-fc6c-04042872f447"
      },
      "outputs": [
        {
          "name": "stdout",
          "output_type": "stream",
          "text": [
            "Distribution of the Mean ::  21.317262325000005\n"
          ]
        }
      ],
      "source": [
        "# Calculating the mean for Y variable\n",
        "mean = np.mean(dataframe2['Y'])\n",
        "print(\"Distribution of the Mean :: \", mean)"
      ]
    },
    {
      "cell_type": "markdown",
      "id": "323b9b40",
      "metadata": {
        "id": "323b9b40"
      },
      "source": [
        "#### 3. Determine the variances"
      ]
    },
    {
      "cell_type": "code",
      "execution_count": null,
      "id": "5a1c1206",
      "metadata": {
        "id": "5a1c1206",
        "outputId": "c479bcc5-2d24-488c-9df0-42060e972a85"
      },
      "outputs": [
        {
          "name": "stdout",
          "output_type": "stream",
          "text": [
            "Distribution of the Variance ::  58.116561139952786\n"
          ]
        }
      ],
      "source": [
        "# Calculating the variance of X\n",
        "variance = dataframe2['X'].var()\n",
        "\n",
        "#Printing the variance\n",
        "print(\"Distribution of the Variance :: \", variance)"
      ]
    },
    {
      "cell_type": "code",
      "execution_count": null,
      "id": "cdac48f0-f4a4-402c-8a10-19198b5e741e",
      "metadata": {
        "id": "cdac48f0-f4a4-402c-8a10-19198b5e741e",
        "outputId": "51bfbc38-ee60-4970-888b-389743797842"
      },
      "outputs": [
        {
          "name": "stdout",
          "output_type": "stream",
          "text": [
            "Distribution of the Variance ::  20.45402795932483\n"
          ]
        }
      ],
      "source": [
        "# Calculating the variance of Y\n",
        "variance = dataframe2['Y'].var()\n",
        "\n",
        "#Printing the variance\n",
        "print(\"Distribution of the Variance :: \", variance)"
      ]
    },
    {
      "cell_type": "markdown",
      "id": "859e460c",
      "metadata": {
        "id": "859e460c"
      },
      "source": [
        "#### 4. Determine the covariance and the Pearson coefficient"
      ]
    },
    {
      "cell_type": "code",
      "execution_count": null,
      "id": "2aaf02e4",
      "metadata": {
        "id": "2aaf02e4",
        "outputId": "c3a16383-77fd-4bb2-9b11-7bd09e3c835e"
      },
      "outputs": [
        {
          "name": "stdout",
          "output_type": "stream",
          "text": [
            "Covariance 28.866160783859026\n",
            "Pearson Coefficient 0.8372393839441227\n"
          ]
        }
      ],
      "source": [
        "# Calculate the covariance of the matrix\n",
        "covariance_matrix = np.cov(x,y)\n",
        "\n",
        "# Extract covariance from covariance matrix\n",
        "covariance = covariance_matrix[0,1]\n",
        "\n",
        "# Calculate the Pearson coefficient\n",
        "pearson_coeff = np.corrcoef(x, y)[0,1]\n",
        "\n",
        "# print the covariance and the Pearson coefficient\n",
        "print(\"Covariance\", covariance)\n",
        "print(\"Pearson Coefficient\", pearson_coeff)"
      ]
    },
    {
      "cell_type": "markdown",
      "id": "02173a14",
      "metadata": {
        "id": "02173a14"
      },
      "source": [
        "#### 5. Discuss your findings with expectations from visually inspecting the histogram.\n"
      ]
    },
    {
      "cell_type": "markdown",
      "id": "8e825946-40ce-43ae-905f-450dc8e4d836",
      "metadata": {
        "id": "8e825946-40ce-43ae-905f-450dc8e4d836"
      },
      "source": [
        "A 2D histogram is a valuable tool for showing the pattern of two variables together. It can be applied in different situations to help understand how these two variables are connected. We can see a pattern to undestand the variable X and Y based on the frequency we can see that both the variables frequency is high around 20 - 28. The bins are set as 30 and the histogram range is define for min max range of variable X, Y."
      ]
    },
    {
      "cell_type": "markdown",
      "id": "d41eaa30",
      "metadata": {
        "id": "d41eaa30"
      },
      "source": [
        "# 3 Problem 3\n",
        "#### In this problem we will work a with Pandas DataFrame and check some of its functionality. Given the data in data3.dat perform the following tasks:\n"
      ]
    },
    {
      "cell_type": "code",
      "execution_count": null,
      "id": "35c229de",
      "metadata": {
        "id": "35c229de",
        "outputId": "54e84667-a161-4ada-d493-068647ee1403"
      },
      "outputs": [
        {
          "data": {
            "text/html": [
              "<div>\n",
              "<style scoped>\n",
              "    .dataframe tbody tr th:only-of-type {\n",
              "        vertical-align: middle;\n",
              "    }\n",
              "\n",
              "    .dataframe tbody tr th {\n",
              "        vertical-align: top;\n",
              "    }\n",
              "\n",
              "    .dataframe thead th {\n",
              "        text-align: right;\n",
              "    }\n",
              "</style>\n",
              "<table border=\"1\" class=\"dataframe\">\n",
              "  <thead>\n",
              "    <tr style=\"text-align: right;\">\n",
              "      <th></th>\n",
              "      <th>Temp</th>\n",
              "      <th>Humidity</th>\n",
              "      <th>Time</th>\n",
              "    </tr>\n",
              "  </thead>\n",
              "  <tbody>\n",
              "    <tr>\n",
              "      <th>Event1</th>\n",
              "      <td>22</td>\n",
              "      <td>50</td>\n",
              "      <td>10:00</td>\n",
              "    </tr>\n",
              "    <tr>\n",
              "      <th>Event2</th>\n",
              "      <td>25</td>\n",
              "      <td>55</td>\n",
              "      <td>11:00</td>\n",
              "    </tr>\n",
              "    <tr>\n",
              "      <th>Event3</th>\n",
              "      <td>24</td>\n",
              "      <td>60</td>\n",
              "      <td>12:00</td>\n",
              "    </tr>\n",
              "    <tr>\n",
              "      <th>Event4</th>\n",
              "      <td>27</td>\n",
              "      <td>57</td>\n",
              "      <td>13:00</td>\n",
              "    </tr>\n",
              "    <tr>\n",
              "      <th>Event5</th>\n",
              "      <td>21</td>\n",
              "      <td>58</td>\n",
              "      <td>14:00</td>\n",
              "    </tr>\n",
              "  </tbody>\n",
              "</table>\n",
              "</div>"
            ],
            "text/plain": [
              "        Temp  Humidity   Time\n",
              "Event1    22        50  10:00\n",
              "Event2    25        55  11:00\n",
              "Event3    24        60  12:00\n",
              "Event4    27        57  13:00\n",
              "Event5    21        58  14:00"
            ]
          },
          "execution_count": 63,
          "metadata": {},
          "output_type": "execute_result"
        }
      ],
      "source": [
        "# Create the Dataframe\n",
        "data = {\n",
        "    'Temp':[22, 25, 24, 27, 21],\n",
        "    'Humidity':[50, 55, 60, 57, 58],\n",
        "    'Time': ['10:00', '11:00', '12:00', '13:00', '14:00']\n",
        "}\n",
        "\n",
        "index = ['Event1', 'Event2', 'Event3', 'Event4', 'Event5']\n",
        "\n",
        "data3 = pd.DataFrame(data, index=index)\n",
        "\n",
        "#display the data3\n",
        "data3"
      ]
    },
    {
      "cell_type": "markdown",
      "id": "97b02c68-2df3-4d18-b179-2bdc06635429",
      "metadata": {
        "id": "97b02c68-2df3-4d18-b179-2bdc06635429"
      },
      "source": [
        "#### 2. Using Pandas functions, sort DataFrame in decreasing order of humidity save\n",
        "them in a new DataFrame and print it."
      ]
    },
    {
      "cell_type": "code",
      "execution_count": null,
      "id": "3a10cde3-18df-45c7-a236-432851a6bf71",
      "metadata": {
        "id": "3a10cde3-18df-45c7-a236-432851a6bf71",
        "outputId": "dcb67f86-8cc4-48ec-ed20-07224a3b084f"
      },
      "outputs": [
        {
          "data": {
            "text/html": [
              "<div>\n",
              "<style scoped>\n",
              "    .dataframe tbody tr th:only-of-type {\n",
              "        vertical-align: middle;\n",
              "    }\n",
              "\n",
              "    .dataframe tbody tr th {\n",
              "        vertical-align: top;\n",
              "    }\n",
              "\n",
              "    .dataframe thead th {\n",
              "        text-align: right;\n",
              "    }\n",
              "</style>\n",
              "<table border=\"1\" class=\"dataframe\">\n",
              "  <thead>\n",
              "    <tr style=\"text-align: right;\">\n",
              "      <th></th>\n",
              "      <th>Temp</th>\n",
              "      <th>Humidity</th>\n",
              "      <th>Time</th>\n",
              "    </tr>\n",
              "  </thead>\n",
              "  <tbody>\n",
              "    <tr>\n",
              "      <th>Event3</th>\n",
              "      <td>24</td>\n",
              "      <td>60</td>\n",
              "      <td>12:00</td>\n",
              "    </tr>\n",
              "    <tr>\n",
              "      <th>Event5</th>\n",
              "      <td>21</td>\n",
              "      <td>58</td>\n",
              "      <td>14:00</td>\n",
              "    </tr>\n",
              "    <tr>\n",
              "      <th>Event4</th>\n",
              "      <td>27</td>\n",
              "      <td>57</td>\n",
              "      <td>13:00</td>\n",
              "    </tr>\n",
              "    <tr>\n",
              "      <th>Event2</th>\n",
              "      <td>25</td>\n",
              "      <td>55</td>\n",
              "      <td>11:00</td>\n",
              "    </tr>\n",
              "    <tr>\n",
              "      <th>Event1</th>\n",
              "      <td>22</td>\n",
              "      <td>50</td>\n",
              "      <td>10:00</td>\n",
              "    </tr>\n",
              "  </tbody>\n",
              "</table>\n",
              "</div>"
            ],
            "text/plain": [
              "        Temp  Humidity   Time\n",
              "Event3    24        60  12:00\n",
              "Event5    21        58  14:00\n",
              "Event4    27        57  13:00\n",
              "Event2    25        55  11:00\n",
              "Event1    22        50  10:00"
            ]
          },
          "execution_count": 64,
          "metadata": {},
          "output_type": "execute_result"
        }
      ],
      "source": [
        "sort_data3 = data3.sort_values(by='Humidity', ascending = False)\n",
        "sort_data3"
      ]
    },
    {
      "cell_type": "markdown",
      "id": "cc8e2fbb-7395-4c9d-b93a-d1304445b662",
      "metadata": {
        "id": "cc8e2fbb-7395-4c9d-b93a-d1304445b662"
      },
      "source": [
        "#### 3. Create an array (size 5) of random integers between 1 and 100. Then add this array to the above DataFrame"
      ]
    },
    {
      "cell_type": "code",
      "execution_count": null,
      "id": "672c31cb-9281-40d5-a1ea-193c42a3107d",
      "metadata": {
        "id": "672c31cb-9281-40d5-a1ea-193c42a3107d",
        "outputId": "1c41233f-dd7b-475f-bab6-c0a43ad7c432"
      },
      "outputs": [
        {
          "data": {
            "text/html": [
              "<div>\n",
              "<style scoped>\n",
              "    .dataframe tbody tr th:only-of-type {\n",
              "        vertical-align: middle;\n",
              "    }\n",
              "\n",
              "    .dataframe tbody tr th {\n",
              "        vertical-align: top;\n",
              "    }\n",
              "\n",
              "    .dataframe thead th {\n",
              "        text-align: right;\n",
              "    }\n",
              "</style>\n",
              "<table border=\"1\" class=\"dataframe\">\n",
              "  <thead>\n",
              "    <tr style=\"text-align: right;\">\n",
              "      <th></th>\n",
              "      <th>Temp</th>\n",
              "      <th>Humidity</th>\n",
              "      <th>Time</th>\n",
              "      <th>Random_Integers</th>\n",
              "    </tr>\n",
              "  </thead>\n",
              "  <tbody>\n",
              "    <tr>\n",
              "      <th>Event3</th>\n",
              "      <td>24</td>\n",
              "      <td>60</td>\n",
              "      <td>12:00</td>\n",
              "      <td>44</td>\n",
              "    </tr>\n",
              "    <tr>\n",
              "      <th>Event5</th>\n",
              "      <td>21</td>\n",
              "      <td>58</td>\n",
              "      <td>14:00</td>\n",
              "      <td>62</td>\n",
              "    </tr>\n",
              "    <tr>\n",
              "      <th>Event4</th>\n",
              "      <td>27</td>\n",
              "      <td>57</td>\n",
              "      <td>13:00</td>\n",
              "      <td>72</td>\n",
              "    </tr>\n",
              "    <tr>\n",
              "      <th>Event2</th>\n",
              "      <td>25</td>\n",
              "      <td>55</td>\n",
              "      <td>11:00</td>\n",
              "      <td>68</td>\n",
              "    </tr>\n",
              "    <tr>\n",
              "      <th>Event1</th>\n",
              "      <td>22</td>\n",
              "      <td>50</td>\n",
              "      <td>10:00</td>\n",
              "      <td>81</td>\n",
              "    </tr>\n",
              "  </tbody>\n",
              "</table>\n",
              "</div>"
            ],
            "text/plain": [
              "        Temp  Humidity   Time  Random_Integers\n",
              "Event3    24        60  12:00               44\n",
              "Event5    21        58  14:00               62\n",
              "Event4    27        57  13:00               72\n",
              "Event2    25        55  11:00               68\n",
              "Event1    22        50  10:00               81"
            ]
          },
          "execution_count": 65,
          "metadata": {},
          "output_type": "execute_result"
        }
      ],
      "source": [
        "# create an array of random integers between 1 and 100\n",
        "array = np.random.randint(1, 101, size =5)\n",
        "sort_data3['Random_Integers'] = array\n",
        "sort_data3\n"
      ]
    },
    {
      "cell_type": "markdown",
      "id": "cfbe723c-2e00-47cc-9067-97ef461bbb31",
      "metadata": {
        "id": "cfbe723c-2e00-47cc-9067-97ef461bbb31"
      },
      "source": [
        "## 4 Problem 4\n",
        "###\n",
        "Given the data in data3.csv perform the following tasks:"
      ]
    },
    {
      "cell_type": "code",
      "execution_count": null,
      "id": "29f0423a-f885-4c82-ae2d-51c993511a4b",
      "metadata": {
        "id": "29f0423a-f885-4c82-ae2d-51c993511a4b",
        "outputId": "6bcb3ccc-2e0f-4f43-e685-40b85a55130f"
      },
      "outputs": [
        {
          "data": {
            "text/html": [
              "<div>\n",
              "<style scoped>\n",
              "    .dataframe tbody tr th:only-of-type {\n",
              "        vertical-align: middle;\n",
              "    }\n",
              "\n",
              "    .dataframe tbody tr th {\n",
              "        vertical-align: top;\n",
              "    }\n",
              "\n",
              "    .dataframe thead th {\n",
              "        text-align: right;\n",
              "    }\n",
              "</style>\n",
              "<table border=\"1\" class=\"dataframe\">\n",
              "  <thead>\n",
              "    <tr style=\"text-align: right;\">\n",
              "      <th></th>\n",
              "      <th>Var1</th>\n",
              "      <th>Var2</th>\n",
              "      <th>Var3</th>\n",
              "      <th>Var4</th>\n",
              "      <th>Var5</th>\n",
              "    </tr>\n",
              "  </thead>\n",
              "  <tbody>\n",
              "    <tr>\n",
              "      <th>0</th>\n",
              "      <td>-10.000000</td>\n",
              "      <td>0.0</td>\n",
              "      <td>1.329637</td>\n",
              "      <td>13</td>\n",
              "      <td>0.004627</td>\n",
              "    </tr>\n",
              "    <tr>\n",
              "      <th>1</th>\n",
              "      <td>-9.797980</td>\n",
              "      <td>0.0</td>\n",
              "      <td>1.485366</td>\n",
              "      <td>75</td>\n",
              "      <td>0.004907</td>\n",
              "    </tr>\n",
              "    <tr>\n",
              "      <th>2</th>\n",
              "      <td>-9.595960</td>\n",
              "      <td>0.0</td>\n",
              "      <td>1.582144</td>\n",
              "      <td>83</td>\n",
              "      <td>1.085085</td>\n",
              "    </tr>\n",
              "    <tr>\n",
              "      <th>3</th>\n",
              "      <td>-9.393939</td>\n",
              "      <td>0.0</td>\n",
              "      <td>1.587533</td>\n",
              "      <td>68</td>\n",
              "      <td>0.359320</td>\n",
              "    </tr>\n",
              "    <tr>\n",
              "      <th>4</th>\n",
              "      <td>-9.191919</td>\n",
              "      <td>0.0</td>\n",
              "      <td>1.492111</td>\n",
              "      <td>39</td>\n",
              "      <td>-0.770488</td>\n",
              "    </tr>\n",
              "    <tr>\n",
              "      <th>...</th>\n",
              "      <td>...</td>\n",
              "      <td>...</td>\n",
              "      <td>...</td>\n",
              "      <td>...</td>\n",
              "      <td>...</td>\n",
              "    </tr>\n",
              "    <tr>\n",
              "      <th>9995</th>\n",
              "      <td>9.191919</td>\n",
              "      <td>20.0</td>\n",
              "      <td>1.595110</td>\n",
              "      <td>84</td>\n",
              "      <td>0.180372</td>\n",
              "    </tr>\n",
              "    <tr>\n",
              "      <th>9996</th>\n",
              "      <td>9.393939</td>\n",
              "      <td>20.0</td>\n",
              "      <td>1.609941</td>\n",
              "      <td>81</td>\n",
              "      <td>0.146588</td>\n",
              "    </tr>\n",
              "    <tr>\n",
              "      <th>9997</th>\n",
              "      <td>9.595960</td>\n",
              "      <td>20.0</td>\n",
              "      <td>1.411719</td>\n",
              "      <td>3</td>\n",
              "      <td>-2.880569</td>\n",
              "    </tr>\n",
              "    <tr>\n",
              "      <th>9998</th>\n",
              "      <td>9.797980</td>\n",
              "      <td>20.0</td>\n",
              "      <td>1.029217</td>\n",
              "      <td>70</td>\n",
              "      <td>-0.516177</td>\n",
              "    </tr>\n",
              "    <tr>\n",
              "      <th>9999</th>\n",
              "      <td>10.000000</td>\n",
              "      <td>20.0</td>\n",
              "      <td>0.533843</td>\n",
              "      <td>70</td>\n",
              "      <td>-0.513992</td>\n",
              "    </tr>\n",
              "  </tbody>\n",
              "</table>\n",
              "<p>10000 rows × 5 columns</p>\n",
              "</div>"
            ],
            "text/plain": [
              "           Var1  Var2      Var3  Var4      Var5\n",
              "0    -10.000000   0.0  1.329637    13  0.004627\n",
              "1     -9.797980   0.0  1.485366    75  0.004907\n",
              "2     -9.595960   0.0  1.582144    83  1.085085\n",
              "3     -9.393939   0.0  1.587533    68  0.359320\n",
              "4     -9.191919   0.0  1.492111    39 -0.770488\n",
              "...         ...   ...       ...   ...       ...\n",
              "9995   9.191919  20.0  1.595110    84  0.180372\n",
              "9996   9.393939  20.0  1.609941    81  0.146588\n",
              "9997   9.595960  20.0  1.411719     3 -2.880569\n",
              "9998   9.797980  20.0  1.029217    70 -0.516177\n",
              "9999  10.000000  20.0  0.533843    70 -0.513992\n",
              "\n",
              "[10000 rows x 5 columns]"
            ]
          },
          "execution_count": 66,
          "metadata": {},
          "output_type": "execute_result"
        }
      ],
      "source": [
        "#Using github to provide a URL for the data\n",
        "url = 'https://raw.githubusercontent.com/Tabs2206/PHY_A1/main/data3.csv'\n",
        "# Reading the .csv file while making the header as none and column name as define above\n",
        "data4 = pd.read_csv(url)\n",
        "# Printing the dataset, it contains 50000 rows\n",
        "data4\n"
      ]
    },
    {
      "cell_type": "markdown",
      "id": "b5ca9a14-4332-4b82-8147-977178bb70c3",
      "metadata": {
        "id": "b5ca9a14-4332-4b82-8147-977178bb70c3"
      },
      "source": [
        "#### 1. Read in the data in a Pandas data frame, and describe the data structure,\n",
        "including number of entries, columns"
      ]
    },
    {
      "cell_type": "code",
      "execution_count": null,
      "id": "2029703b-c283-4d82-8f27-c82d7160ad95",
      "metadata": {
        "id": "2029703b-c283-4d82-8f27-c82d7160ad95",
        "outputId": "2badd44d-e7f0-437a-db35-8e9f5c326076"
      },
      "outputs": [
        {
          "name": "stdout",
          "output_type": "stream",
          "text": [
            "<class 'pandas.core.frame.DataFrame'>\n",
            "RangeIndex: 10000 entries, 0 to 9999\n",
            "Data columns (total 5 columns):\n",
            " #   Column  Non-Null Count  Dtype  \n",
            "---  ------  --------------  -----  \n",
            " 0   Var1    10000 non-null  float64\n",
            " 1   Var2    10000 non-null  float64\n",
            " 2   Var3    10000 non-null  float64\n",
            " 3   Var4    10000 non-null  int64  \n",
            " 4   Var5    10000 non-null  float64\n",
            "dtypes: float64(4), int64(1)\n",
            "memory usage: 390.8 KB\n"
          ]
        }
      ],
      "source": [
        "# To provide the detail entries, column\n",
        "data4.info()"
      ]
    },
    {
      "cell_type": "markdown",
      "id": "8c670177-f7f6-4285-bf7b-d065d6fbac5a",
      "metadata": {
        "id": "8c670177-f7f6-4285-bf7b-d065d6fbac5a"
      },
      "source": [
        "#### 2. Provide data description for the included variables and their correlations"
      ]
    },
    {
      "cell_type": "code",
      "execution_count": null,
      "id": "9c555eba-e35b-435b-b516-de481834cb0a",
      "metadata": {
        "id": "9c555eba-e35b-435b-b516-de481834cb0a",
        "outputId": "a62816a8-fea1-4d54-8e7e-b0e38bf196da"
      },
      "outputs": [
        {
          "data": {
            "text/html": [
              "<div>\n",
              "<style scoped>\n",
              "    .dataframe tbody tr th:only-of-type {\n",
              "        vertical-align: middle;\n",
              "    }\n",
              "\n",
              "    .dataframe tbody tr th {\n",
              "        vertical-align: top;\n",
              "    }\n",
              "\n",
              "    .dataframe thead th {\n",
              "        text-align: right;\n",
              "    }\n",
              "</style>\n",
              "<table border=\"1\" class=\"dataframe\">\n",
              "  <thead>\n",
              "    <tr style=\"text-align: right;\">\n",
              "      <th></th>\n",
              "      <th>Var1</th>\n",
              "      <th>Var2</th>\n",
              "      <th>Var3</th>\n",
              "      <th>Var4</th>\n",
              "      <th>Var5</th>\n",
              "    </tr>\n",
              "  </thead>\n",
              "  <tbody>\n",
              "    <tr>\n",
              "      <th>count</th>\n",
              "      <td>1.000000e+04</td>\n",
              "      <td>10000.000000</td>\n",
              "      <td>10000.000000</td>\n",
              "      <td>10000.000000</td>\n",
              "      <td>10000.000000</td>\n",
              "    </tr>\n",
              "    <tr>\n",
              "      <th>mean</th>\n",
              "      <td>-1.307399e-16</td>\n",
              "      <td>10.000000</td>\n",
              "      <td>0.220111</td>\n",
              "      <td>50.065800</td>\n",
              "      <td>-0.023584</td>\n",
              "    </tr>\n",
              "    <tr>\n",
              "      <th>std</th>\n",
              "      <td>5.831821e+00</td>\n",
              "      <td>5.831821</td>\n",
              "      <td>0.617530</td>\n",
              "      <td>28.622945</td>\n",
              "      <td>1.005952</td>\n",
              "    </tr>\n",
              "    <tr>\n",
              "      <th>min</th>\n",
              "      <td>-1.000000e+01</td>\n",
              "      <td>0.000000</td>\n",
              "      <td>-0.997132</td>\n",
              "      <td>1.000000</td>\n",
              "      <td>-3.533557</td>\n",
              "    </tr>\n",
              "    <tr>\n",
              "      <th>25%</th>\n",
              "      <td>-5.000000e+00</td>\n",
              "      <td>5.000000</td>\n",
              "      <td>-0.127182</td>\n",
              "      <td>25.000000</td>\n",
              "      <td>-0.712511</td>\n",
              "    </tr>\n",
              "    <tr>\n",
              "      <th>50%</th>\n",
              "      <td>0.000000e+00</td>\n",
              "      <td>10.000000</td>\n",
              "      <td>0.118148</td>\n",
              "      <td>50.000000</td>\n",
              "      <td>-0.030280</td>\n",
              "    </tr>\n",
              "    <tr>\n",
              "      <th>75%</th>\n",
              "      <td>5.000000e+00</td>\n",
              "      <td>15.000000</td>\n",
              "      <td>0.580029</td>\n",
              "      <td>75.000000</td>\n",
              "      <td>0.664256</td>\n",
              "    </tr>\n",
              "    <tr>\n",
              "      <th>max</th>\n",
              "      <td>1.000000e+01</td>\n",
              "      <td>20.000000</td>\n",
              "      <td>1.708705</td>\n",
              "      <td>99.000000</td>\n",
              "      <td>3.713726</td>\n",
              "    </tr>\n",
              "  </tbody>\n",
              "</table>\n",
              "</div>"
            ],
            "text/plain": [
              "               Var1          Var2          Var3          Var4          Var5\n",
              "count  1.000000e+04  10000.000000  10000.000000  10000.000000  10000.000000\n",
              "mean  -1.307399e-16     10.000000      0.220111     50.065800     -0.023584\n",
              "std    5.831821e+00      5.831821      0.617530     28.622945      1.005952\n",
              "min   -1.000000e+01      0.000000     -0.997132      1.000000     -3.533557\n",
              "25%   -5.000000e+00      5.000000     -0.127182     25.000000     -0.712511\n",
              "50%    0.000000e+00     10.000000      0.118148     50.000000     -0.030280\n",
              "75%    5.000000e+00     15.000000      0.580029     75.000000      0.664256\n",
              "max    1.000000e+01     20.000000      1.708705     99.000000      3.713726"
            ]
          },
          "execution_count": 68,
          "metadata": {},
          "output_type": "execute_result"
        }
      ],
      "source": [
        "data4.describe()"
      ]
    },
    {
      "cell_type": "code",
      "execution_count": null,
      "id": "c3e88ed2-1829-41ba-b3d5-0d72176990ba",
      "metadata": {
        "id": "c3e88ed2-1829-41ba-b3d5-0d72176990ba",
        "outputId": "16be978d-7435-4482-abc1-92f0fc169b9b"
      },
      "outputs": [
        {
          "data": {
            "text/html": [
              "<div>\n",
              "<style scoped>\n",
              "    .dataframe tbody tr th:only-of-type {\n",
              "        vertical-align: middle;\n",
              "    }\n",
              "\n",
              "    .dataframe tbody tr th {\n",
              "        vertical-align: top;\n",
              "    }\n",
              "\n",
              "    .dataframe thead th {\n",
              "        text-align: right;\n",
              "    }\n",
              "</style>\n",
              "<table border=\"1\" class=\"dataframe\">\n",
              "  <thead>\n",
              "    <tr style=\"text-align: right;\">\n",
              "      <th></th>\n",
              "      <th>Var1</th>\n",
              "      <th>Var2</th>\n",
              "      <th>Var3</th>\n",
              "      <th>Var4</th>\n",
              "      <th>Var5</th>\n",
              "    </tr>\n",
              "  </thead>\n",
              "  <tbody>\n",
              "    <tr>\n",
              "      <th>Var1</th>\n",
              "      <td>1.000000e+00</td>\n",
              "      <td>-1.266187e-17</td>\n",
              "      <td>0.020235</td>\n",
              "      <td>0.015309</td>\n",
              "      <td>-0.014183</td>\n",
              "    </tr>\n",
              "    <tr>\n",
              "      <th>Var2</th>\n",
              "      <td>-1.266187e-17</td>\n",
              "      <td>1.000000e+00</td>\n",
              "      <td>0.140407</td>\n",
              "      <td>-0.001884</td>\n",
              "      <td>-0.011283</td>\n",
              "    </tr>\n",
              "    <tr>\n",
              "      <th>Var3</th>\n",
              "      <td>2.023489e-02</td>\n",
              "      <td>1.404065e-01</td>\n",
              "      <td>1.000000</td>\n",
              "      <td>0.004392</td>\n",
              "      <td>-0.005780</td>\n",
              "    </tr>\n",
              "    <tr>\n",
              "      <th>Var4</th>\n",
              "      <td>1.530942e-02</td>\n",
              "      <td>-1.883585e-03</td>\n",
              "      <td>0.004392</td>\n",
              "      <td>1.000000</td>\n",
              "      <td>-0.001055</td>\n",
              "    </tr>\n",
              "    <tr>\n",
              "      <th>Var5</th>\n",
              "      <td>-1.418325e-02</td>\n",
              "      <td>-1.128306e-02</td>\n",
              "      <td>-0.005780</td>\n",
              "      <td>-0.001055</td>\n",
              "      <td>1.000000</td>\n",
              "    </tr>\n",
              "  </tbody>\n",
              "</table>\n",
              "</div>"
            ],
            "text/plain": [
              "              Var1          Var2      Var3      Var4      Var5\n",
              "Var1  1.000000e+00 -1.266187e-17  0.020235  0.015309 -0.014183\n",
              "Var2 -1.266187e-17  1.000000e+00  0.140407 -0.001884 -0.011283\n",
              "Var3  2.023489e-02  1.404065e-01  1.000000  0.004392 -0.005780\n",
              "Var4  1.530942e-02 -1.883585e-03  0.004392  1.000000 -0.001055\n",
              "Var5 -1.418325e-02 -1.128306e-02 -0.005780 -0.001055  1.000000"
            ]
          },
          "execution_count": 69,
          "metadata": {},
          "output_type": "execute_result"
        }
      ],
      "source": [
        "# To calculate the correlations\n",
        "correlation = data4.corr()\n",
        "# Print the correlation of the data\n",
        "correlation\n"
      ]
    },
    {
      "cell_type": "markdown",
      "id": "db361a4f-47bd-4444-bdb5-6b90bcfcb4d0",
      "metadata": {
        "id": "db361a4f-47bd-4444-bdb5-6b90bcfcb4d0"
      },
      "source": [
        "#### 3. Plot a contour of how variable 3 depends on variable 1 and 2 (Hint: Reshape\n",
        "variables as arrays of [100,100].)"
      ]
    },
    {
      "cell_type": "code",
      "execution_count": null,
      "id": "eac2faa0-5fdb-4b94-a8a9-3e2e2ebf230f",
      "metadata": {
        "id": "eac2faa0-5fdb-4b94-a8a9-3e2e2ebf230f",
        "outputId": "cd6378d0-b5f1-49ed-cad7-8ca86a2d4e6a"
      },
      "outputs": [
        {
          "data": {
            "image/png": "[encoded data removed]",
            "text/plain": [
              "<Figure size 640x480 with 2 Axes>"
            ]
          },
          "metadata": {},
          "output_type": "display_data"
        }
      ],
      "source": [
        "var1 = data4['Var1']\n",
        "var2 = data4['Var2']\n",
        "var3 = data4['Var3']\n",
        "\n",
        "\n",
        "# Reshaping the variables\n",
        "var1_reshaped = np.reshape(var1,(100, 100))\n",
        "var2_reshaped = np.reshape(var2,(100, 100))\n",
        "var3_reshaped = np.reshape(var3,(100, 100))\n",
        "\n",
        "#plotting the contour\n",
        "numoflines = 5\n",
        "plt.contourf(var1_reshaped, var2_reshaped, var3_reshaped, numoflines, cmap='RdGy')\n",
        "\n",
        "# Add labels and title\n",
        "plt.xlabel('Vatiable 1')\n",
        "plt.ylabel('Vatiable 2')\n",
        "plt.title('Contour Plot of Variable 3 vs Variable 1 and 2')\n",
        "\n",
        "# Adding Color Bar\n",
        "plt.colorbar(label = 'Variable 3')\n",
        "\n",
        "# Show the plot\n",
        "plt.show()"
      ]
    },
    {
      "cell_type": "markdown",
      "id": "9b2d75b1-f672-479b-9754-add208d187a3",
      "metadata": {
        "id": "9b2d75b1-f672-479b-9754-add208d187a3"
      },
      "source": [
        "#### 4. Using conditional filtering, create DataFrame that has all data if the variable 3\n",
        "is larger than 0.0. How many rows does the new frame have now?"
      ]
    },
    {
      "cell_type": "code",
      "execution_count": null,
      "id": "e85087fa-90ff-48bc-ab79-bd942ae15f8e",
      "metadata": {
        "id": "e85087fa-90ff-48bc-ab79-bd942ae15f8e",
        "outputId": "42802238-49e2-40bb-e061-e2f695965649"
      },
      "outputs": [
        {
          "name": "stdout",
          "output_type": "stream",
          "text": [
            "Number of rows in the new DataFrame 6270\n"
          ]
        },
        {
          "data": {
            "text/html": [
              "<div>\n",
              "<style scoped>\n",
              "    .dataframe tbody tr th:only-of-type {\n",
              "        vertical-align: middle;\n",
              "    }\n",
              "\n",
              "    .dataframe tbody tr th {\n",
              "        vertical-align: top;\n",
              "    }\n",
              "\n",
              "    .dataframe thead th {\n",
              "        text-align: right;\n",
              "    }\n",
              "</style>\n",
              "<table border=\"1\" class=\"dataframe\">\n",
              "  <thead>\n",
              "    <tr style=\"text-align: right;\">\n",
              "      <th></th>\n",
              "      <th>Var1</th>\n",
              "      <th>Var2</th>\n",
              "      <th>Var3</th>\n",
              "      <th>Var4</th>\n",
              "      <th>Var5</th>\n",
              "    </tr>\n",
              "  </thead>\n",
              "  <tbody>\n",
              "    <tr>\n",
              "      <th>0</th>\n",
              "      <td>-10.000000</td>\n",
              "      <td>0.0</td>\n",
              "      <td>1.329637</td>\n",
              "      <td>13</td>\n",
              "      <td>0.004627</td>\n",
              "    </tr>\n",
              "    <tr>\n",
              "      <th>1</th>\n",
              "      <td>-9.797980</td>\n",
              "      <td>0.0</td>\n",
              "      <td>1.485366</td>\n",
              "      <td>75</td>\n",
              "      <td>0.004907</td>\n",
              "    </tr>\n",
              "    <tr>\n",
              "      <th>2</th>\n",
              "      <td>-9.595960</td>\n",
              "      <td>0.0</td>\n",
              "      <td>1.582144</td>\n",
              "      <td>83</td>\n",
              "      <td>1.085085</td>\n",
              "    </tr>\n",
              "    <tr>\n",
              "      <th>3</th>\n",
              "      <td>-9.393939</td>\n",
              "      <td>0.0</td>\n",
              "      <td>1.587533</td>\n",
              "      <td>68</td>\n",
              "      <td>0.359320</td>\n",
              "    </tr>\n",
              "    <tr>\n",
              "      <th>4</th>\n",
              "      <td>-9.191919</td>\n",
              "      <td>0.0</td>\n",
              "      <td>1.492111</td>\n",
              "      <td>39</td>\n",
              "      <td>-0.770488</td>\n",
              "    </tr>\n",
              "    <tr>\n",
              "      <th>...</th>\n",
              "      <td>...</td>\n",
              "      <td>...</td>\n",
              "      <td>...</td>\n",
              "      <td>...</td>\n",
              "      <td>...</td>\n",
              "    </tr>\n",
              "    <tr>\n",
              "      <th>9995</th>\n",
              "      <td>9.191919</td>\n",
              "      <td>20.0</td>\n",
              "      <td>1.595110</td>\n",
              "      <td>84</td>\n",
              "      <td>0.180372</td>\n",
              "    </tr>\n",
              "    <tr>\n",
              "      <th>9996</th>\n",
              "      <td>9.393939</td>\n",
              "      <td>20.0</td>\n",
              "      <td>1.609941</td>\n",
              "      <td>81</td>\n",
              "      <td>0.146588</td>\n",
              "    </tr>\n",
              "    <tr>\n",
              "      <th>9997</th>\n",
              "      <td>9.595960</td>\n",
              "      <td>20.0</td>\n",
              "      <td>1.411719</td>\n",
              "      <td>3</td>\n",
              "      <td>-2.880569</td>\n",
              "    </tr>\n",
              "    <tr>\n",
              "      <th>9998</th>\n",
              "      <td>9.797980</td>\n",
              "      <td>20.0</td>\n",
              "      <td>1.029217</td>\n",
              "      <td>70</td>\n",
              "      <td>-0.516177</td>\n",
              "    </tr>\n",
              "    <tr>\n",
              "      <th>9999</th>\n",
              "      <td>10.000000</td>\n",
              "      <td>20.0</td>\n",
              "      <td>0.533843</td>\n",
              "      <td>70</td>\n",
              "      <td>-0.513992</td>\n",
              "    </tr>\n",
              "  </tbody>\n",
              "</table>\n",
              "<p>6270 rows × 5 columns</p>\n",
              "</div>"
            ],
            "text/plain": [
              "           Var1  Var2      Var3  Var4      Var5\n",
              "0    -10.000000   0.0  1.329637    13  0.004627\n",
              "1     -9.797980   0.0  1.485366    75  0.004907\n",
              "2     -9.595960   0.0  1.582144    83  1.085085\n",
              "3     -9.393939   0.0  1.587533    68  0.359320\n",
              "4     -9.191919   0.0  1.492111    39 -0.770488\n",
              "...         ...   ...       ...   ...       ...\n",
              "9995   9.191919  20.0  1.595110    84  0.180372\n",
              "9996   9.393939  20.0  1.609941    81  0.146588\n",
              "9997   9.595960  20.0  1.411719     3 -2.880569\n",
              "9998   9.797980  20.0  1.029217    70 -0.516177\n",
              "9999  10.000000  20.0  0.533843    70 -0.513992\n",
              "\n",
              "[6270 rows x 5 columns]"
            ]
          },
          "execution_count": 89,
          "metadata": {},
          "output_type": "execute_result"
        }
      ],
      "source": [
        "# Creating the new DataFrame using conditional filtering\n",
        "\n",
        "new_data4 = data4[data4['Var3'] > 0.0]\n",
        "\n",
        "# Printing the new data frame\n",
        "print(\"Number of rows in the new DataFrame\", len(new_data4))\n",
        "new_data4"
      ]
    },
    {
      "cell_type": "markdown",
      "id": "eb7fb2bf-a6e7-4726-92cc-968e478aeadb",
      "metadata": {
        "id": "eb7fb2bf-a6e7-4726-92cc-968e478aeadb"
      },
      "source": [
        "#### 5.How many values of variable 2 are larger than 1.0 when variable 3 is smaller\n",
        "than -0.5?"
      ]
    },
    {
      "cell_type": "code",
      "execution_count": null,
      "id": "7646e0b0-16cd-4fe7-b8f3-1019b2a70256",
      "metadata": {
        "id": "7646e0b0-16cd-4fe7-b8f3-1019b2a70256",
        "outputId": "d5109050-1adf-44e2-bc66-db4b42a29e5e"
      },
      "outputs": [
        {
          "name": "stdout",
          "output_type": "stream",
          "text": [
            "Number of values of Var2 larger than 1.0 when Var3 is smaller than -0.5:: 1017\n"
          ]
        }
      ],
      "source": [
        "# Counting the number of value of variable 2 are larger than 1.0 when variable 3 is smaller than -0.5\n",
        "count_values = len(data4[(data4['Var2'] > 1.0) & (data4['Var3'] < -0.5)]['Var2'])\n",
        "\n",
        "#Print the values of the variable 2\n",
        "print(\"Number of values of Var2 larger than 1.0 when Var3 is smaller than -0.5::\", count_values)\n",
        "\n"
      ]
    }
  ],
  "metadata": {
    "celltoolbar": "Slideshow",
    "kernelspec": {
      "display_name": "Python 3 (ipykernel)",
      "language": "python",
      "name": "python3"
    },
    "language_info": {
      "codemirror_mode": {
        "name": "ipython",
        "version": 3
      },
      "file_extension": ".py",
      "mimetype": "text/x-python",
      "name": "python",
      "nbconvert_exporter": "python",
      "pygments_lexer": "ipython3",
      "version": "3.11.8"
    },
    "colab": {
      "provenance": [],
      "include_colab_link": true
    }
  },
  "nbformat": 4,
  "nbformat_minor": 5
}